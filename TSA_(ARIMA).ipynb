{
  "nbformat": 4,
  "nbformat_minor": 0,
  "metadata": {
    "colab": {
      "name": "TSA (ARIMA).ipynb",
      "provenance": [],
      "mount_file_id": "1vZsNpk1QqvkuA3LbuG9xImMCePlRBaxu",
      "authorship_tag": "ABX9TyNs9DNSVeX5tXunjPBxqQJh",
      "include_colab_link": true
    },
    "kernelspec": {
      "name": "python3",
      "display_name": "Python 3"
    },
    "language_info": {
      "name": "python"
    }
  },
  "cells": [
    {
      "cell_type": "markdown",
      "metadata": {
        "id": "view-in-github",
        "colab_type": "text"
      },
      "source": [
        "<a href=\"https://colab.research.google.com/github/nksgbc/exchangerate/blob/main/TSA_(ARIMA).ipynb\" target=\"_parent\"><img src=\"https://colab.research.google.com/assets/colab-badge.svg\" alt=\"Open In Colab\"/></a>"
      ]
    },
    {
      "cell_type": "code",
      "source": [
        "import pandas as pd\n",
        "import numpy as np\n",
        "import matplotlib.pyplot as plt\n",
        "import statsmodels.graphics.tsaplots as sgt\n",
        "import statsmodels.tsa.stattools as sts\n",
        "from statsmodels.tsa.arima_model import ARIMA\n",
        "from scipy.stats.distributions import chi2 \n",
        "from math import sqrt\n",
        "import seaborn as sns\n",
        "sns.set()\n"
      ],
      "metadata": {
        "id": "2UZkHUQzAOJY"
      },
      "execution_count": 27,
      "outputs": []
    },
    {
      "cell_type": "code",
      "execution_count": 28,
      "metadata": {
        "colab": {
          "base_uri": "https://localhost:8080/",
          "height": 206
        },
        "id": "trHfnRHTecX1",
        "outputId": "7130dad4-2f98-4809-d492-c6b7074f3ace"
      },
      "outputs": [
        {
          "output_type": "execute_result",
          "data": {
            "text/plain": [
              "           Date  Price    Open    High     Low   Chg%\n",
              "0  Jul 14, 2022  79.89  79.708  80.235  79.666  0.30%\n",
              "1  Jul 13, 2022  79.65  79.490  79.870  79.475  0.25%\n",
              "2  Jul 12, 2022  79.45  79.466  79.666  79.459  0.05%\n",
              "3  Jul 11, 2022  79.41  79.255  79.585  79.255  0.19%\n",
              "4  Jul 08, 2022  79.26  79.180  79.435  79.128  0.14%"
            ],
            "text/html": [
              "\n",
              "  <div id=\"df-f444b972-53ad-4a49-be8f-dff3f059c338\">\n",
              "    <div class=\"colab-df-container\">\n",
              "      <div>\n",
              "<style scoped>\n",
              "    .dataframe tbody tr th:only-of-type {\n",
              "        vertical-align: middle;\n",
              "    }\n",
              "\n",
              "    .dataframe tbody tr th {\n",
              "        vertical-align: top;\n",
              "    }\n",
              "\n",
              "    .dataframe thead th {\n",
              "        text-align: right;\n",
              "    }\n",
              "</style>\n",
              "<table border=\"1\" class=\"dataframe\">\n",
              "  <thead>\n",
              "    <tr style=\"text-align: right;\">\n",
              "      <th></th>\n",
              "      <th>Date</th>\n",
              "      <th>Price</th>\n",
              "      <th>Open</th>\n",
              "      <th>High</th>\n",
              "      <th>Low</th>\n",
              "      <th>Chg%</th>\n",
              "    </tr>\n",
              "  </thead>\n",
              "  <tbody>\n",
              "    <tr>\n",
              "      <th>0</th>\n",
              "      <td>Jul 14, 2022</td>\n",
              "      <td>79.89</td>\n",
              "      <td>79.708</td>\n",
              "      <td>80.235</td>\n",
              "      <td>79.666</td>\n",
              "      <td>0.30%</td>\n",
              "    </tr>\n",
              "    <tr>\n",
              "      <th>1</th>\n",
              "      <td>Jul 13, 2022</td>\n",
              "      <td>79.65</td>\n",
              "      <td>79.490</td>\n",
              "      <td>79.870</td>\n",
              "      <td>79.475</td>\n",
              "      <td>0.25%</td>\n",
              "    </tr>\n",
              "    <tr>\n",
              "      <th>2</th>\n",
              "      <td>Jul 12, 2022</td>\n",
              "      <td>79.45</td>\n",
              "      <td>79.466</td>\n",
              "      <td>79.666</td>\n",
              "      <td>79.459</td>\n",
              "      <td>0.05%</td>\n",
              "    </tr>\n",
              "    <tr>\n",
              "      <th>3</th>\n",
              "      <td>Jul 11, 2022</td>\n",
              "      <td>79.41</td>\n",
              "      <td>79.255</td>\n",
              "      <td>79.585</td>\n",
              "      <td>79.255</td>\n",
              "      <td>0.19%</td>\n",
              "    </tr>\n",
              "    <tr>\n",
              "      <th>4</th>\n",
              "      <td>Jul 08, 2022</td>\n",
              "      <td>79.26</td>\n",
              "      <td>79.180</td>\n",
              "      <td>79.435</td>\n",
              "      <td>79.128</td>\n",
              "      <td>0.14%</td>\n",
              "    </tr>\n",
              "  </tbody>\n",
              "</table>\n",
              "</div>\n",
              "      <button class=\"colab-df-convert\" onclick=\"convertToInteractive('df-f444b972-53ad-4a49-be8f-dff3f059c338')\"\n",
              "              title=\"Convert this dataframe to an interactive table.\"\n",
              "              style=\"display:none;\">\n",
              "        \n",
              "  <svg xmlns=\"http://www.w3.org/2000/svg\" height=\"24px\"viewBox=\"0 0 24 24\"\n",
              "       width=\"24px\">\n",
              "    <path d=\"M0 0h24v24H0V0z\" fill=\"none\"/>\n",
              "    <path d=\"M18.56 5.44l.94 2.06.94-2.06 2.06-.94-2.06-.94-.94-2.06-.94 2.06-2.06.94zm-11 1L8.5 8.5l.94-2.06 2.06-.94-2.06-.94L8.5 2.5l-.94 2.06-2.06.94zm10 10l.94 2.06.94-2.06 2.06-.94-2.06-.94-.94-2.06-.94 2.06-2.06.94z\"/><path d=\"M17.41 7.96l-1.37-1.37c-.4-.4-.92-.59-1.43-.59-.52 0-1.04.2-1.43.59L10.3 9.45l-7.72 7.72c-.78.78-.78 2.05 0 2.83L4 21.41c.39.39.9.59 1.41.59.51 0 1.02-.2 1.41-.59l7.78-7.78 2.81-2.81c.8-.78.8-2.07 0-2.86zM5.41 20L4 18.59l7.72-7.72 1.47 1.35L5.41 20z\"/>\n",
              "  </svg>\n",
              "      </button>\n",
              "      \n",
              "  <style>\n",
              "    .colab-df-container {\n",
              "      display:flex;\n",
              "      flex-wrap:wrap;\n",
              "      gap: 12px;\n",
              "    }\n",
              "\n",
              "    .colab-df-convert {\n",
              "      background-color: #E8F0FE;\n",
              "      border: none;\n",
              "      border-radius: 50%;\n",
              "      cursor: pointer;\n",
              "      display: none;\n",
              "      fill: #1967D2;\n",
              "      height: 32px;\n",
              "      padding: 0 0 0 0;\n",
              "      width: 32px;\n",
              "    }\n",
              "\n",
              "    .colab-df-convert:hover {\n",
              "      background-color: #E2EBFA;\n",
              "      box-shadow: 0px 1px 2px rgba(60, 64, 67, 0.3), 0px 1px 3px 1px rgba(60, 64, 67, 0.15);\n",
              "      fill: #174EA6;\n",
              "    }\n",
              "\n",
              "    [theme=dark] .colab-df-convert {\n",
              "      background-color: #3B4455;\n",
              "      fill: #D2E3FC;\n",
              "    }\n",
              "\n",
              "    [theme=dark] .colab-df-convert:hover {\n",
              "      background-color: #434B5C;\n",
              "      box-shadow: 0px 1px 3px 1px rgba(0, 0, 0, 0.15);\n",
              "      filter: drop-shadow(0px 1px 2px rgba(0, 0, 0, 0.3));\n",
              "      fill: #FFFFFF;\n",
              "    }\n",
              "  </style>\n",
              "\n",
              "      <script>\n",
              "        const buttonEl =\n",
              "          document.querySelector('#df-f444b972-53ad-4a49-be8f-dff3f059c338 button.colab-df-convert');\n",
              "        buttonEl.style.display =\n",
              "          google.colab.kernel.accessAllowed ? 'block' : 'none';\n",
              "\n",
              "        async function convertToInteractive(key) {\n",
              "          const element = document.querySelector('#df-f444b972-53ad-4a49-be8f-dff3f059c338');\n",
              "          const dataTable =\n",
              "            await google.colab.kernel.invokeFunction('convertToInteractive',\n",
              "                                                     [key], {});\n",
              "          if (!dataTable) return;\n",
              "\n",
              "          const docLinkHtml = 'Like what you see? Visit the ' +\n",
              "            '<a target=\"_blank\" href=https://colab.research.google.com/notebooks/data_table.ipynb>data table notebook</a>'\n",
              "            + ' to learn more about interactive tables.';\n",
              "          element.innerHTML = '';\n",
              "          dataTable['output_type'] = 'display_data';\n",
              "          await google.colab.output.renderOutput(dataTable, element);\n",
              "          const docLink = document.createElement('div');\n",
              "          docLink.innerHTML = docLinkHtml;\n",
              "          element.appendChild(docLink);\n",
              "        }\n",
              "      </script>\n",
              "    </div>\n",
              "  </div>\n",
              "  "
            ]
          },
          "metadata": {},
          "execution_count": 28
        }
      ],
      "source": [
        "\n",
        "df=pd.read_csv(\"/content/drive/MyDrive/summer project/Colab Notebooks/TSA - Sheet1.csv\")\n",
        "df.head()\n"
      ]
    },
    {
      "cell_type": "code",
      "source": [
        "#setting index as date\n",
        "df['Date'] = pd.to_datetime(df.Date,format='%b %d, %Y')\n",
        "df.index = df['Date']\n",
        "df = df.sort_index(ascending=True, axis=0)"
      ],
      "metadata": {
        "id": "DEMw0C7Gen6b"
      },
      "execution_count": 29,
      "outputs": []
    },
    {
      "cell_type": "code",
      "source": [
        "df.info()"
      ],
      "metadata": {
        "colab": {
          "base_uri": "https://localhost:8080/"
        },
        "id": "5LfjwoBOe46G",
        "outputId": "9793ea85-af51-479f-a475-ca2bfdd99a67"
      },
      "execution_count": 30,
      "outputs": [
        {
          "output_type": "stream",
          "name": "stdout",
          "text": [
            "<class 'pandas.core.frame.DataFrame'>\n",
            "DatetimeIndex: 3009 entries, 2011-01-03 to 2022-07-14\n",
            "Data columns (total 6 columns):\n",
            " #   Column  Non-Null Count  Dtype         \n",
            "---  ------  --------------  -----         \n",
            " 0   Date    3009 non-null   datetime64[ns]\n",
            " 1   Price   3009 non-null   float64       \n",
            " 2   Open    3009 non-null   float64       \n",
            " 3   High    3009 non-null   float64       \n",
            " 4   Low     3009 non-null   float64       \n",
            " 5   Chg%    3009 non-null   object        \n",
            "dtypes: datetime64[ns](1), float64(4), object(1)\n",
            "memory usage: 164.6+ KB\n"
          ]
        }
      ]
    },
    {
      "cell_type": "code",
      "source": [
        "#split into 80% train and 20% test data\n",
        "usd_inr=df[[\"Date\", \"Price\"]]\n",
        "train_size=int(len(usd_inr)*0.8)\n",
        "train_size\n",
        "\n",
        "df_train = usd_inr.iloc[:train_size]\n",
        "df_test = usd_inr.iloc[train_size:]"
      ],
      "metadata": {
        "id": "At2_tWUefA7C"
      },
      "execution_count": 31,
      "outputs": []
    },
    {
      "cell_type": "markdown",
      "source": [
        "**Auto Regressive Moving average model**"
      ],
      "metadata": {
        "id": "kHeaZF2nfutb"
      }
    },
    {
      "cell_type": "code",
      "source": [
        "df_train['returns']=df['Chg%']"
      ],
      "metadata": {
        "id": "JbCSTl3pfj0K"
      },
      "execution_count": 32,
      "outputs": []
    },
    {
      "cell_type": "code",
      "source": [
        "df_train.head()"
      ],
      "metadata": {
        "colab": {
          "base_uri": "https://localhost:8080/",
          "height": 237
        },
        "id": "4HHcscY5igjD",
        "outputId": "4b704b5a-ab73-4201-8d14-343278e502ea"
      },
      "execution_count": 33,
      "outputs": [
        {
          "output_type": "execute_result",
          "data": {
            "text/plain": [
              "                 Date   Price returns\n",
              "Date                                 \n",
              "2011-01-03 2011-01-03  44.625  -0.20%\n",
              "2011-01-04 2011-01-04  44.920   0.66%\n",
              "2011-01-05 2011-01-05  45.325   0.90%\n",
              "2011-01-06 2011-01-06  45.355   0.07%\n",
              "2011-01-07 2011-01-07  45.355   0.00%"
            ],
            "text/html": [
              "\n",
              "  <div id=\"df-247e2770-2e69-45d2-aaac-b693e087c590\">\n",
              "    <div class=\"colab-df-container\">\n",
              "      <div>\n",
              "<style scoped>\n",
              "    .dataframe tbody tr th:only-of-type {\n",
              "        vertical-align: middle;\n",
              "    }\n",
              "\n",
              "    .dataframe tbody tr th {\n",
              "        vertical-align: top;\n",
              "    }\n",
              "\n",
              "    .dataframe thead th {\n",
              "        text-align: right;\n",
              "    }\n",
              "</style>\n",
              "<table border=\"1\" class=\"dataframe\">\n",
              "  <thead>\n",
              "    <tr style=\"text-align: right;\">\n",
              "      <th></th>\n",
              "      <th>Date</th>\n",
              "      <th>Price</th>\n",
              "      <th>returns</th>\n",
              "    </tr>\n",
              "    <tr>\n",
              "      <th>Date</th>\n",
              "      <th></th>\n",
              "      <th></th>\n",
              "      <th></th>\n",
              "    </tr>\n",
              "  </thead>\n",
              "  <tbody>\n",
              "    <tr>\n",
              "      <th>2011-01-03</th>\n",
              "      <td>2011-01-03</td>\n",
              "      <td>44.625</td>\n",
              "      <td>-0.20%</td>\n",
              "    </tr>\n",
              "    <tr>\n",
              "      <th>2011-01-04</th>\n",
              "      <td>2011-01-04</td>\n",
              "      <td>44.920</td>\n",
              "      <td>0.66%</td>\n",
              "    </tr>\n",
              "    <tr>\n",
              "      <th>2011-01-05</th>\n",
              "      <td>2011-01-05</td>\n",
              "      <td>45.325</td>\n",
              "      <td>0.90%</td>\n",
              "    </tr>\n",
              "    <tr>\n",
              "      <th>2011-01-06</th>\n",
              "      <td>2011-01-06</td>\n",
              "      <td>45.355</td>\n",
              "      <td>0.07%</td>\n",
              "    </tr>\n",
              "    <tr>\n",
              "      <th>2011-01-07</th>\n",
              "      <td>2011-01-07</td>\n",
              "      <td>45.355</td>\n",
              "      <td>0.00%</td>\n",
              "    </tr>\n",
              "  </tbody>\n",
              "</table>\n",
              "</div>\n",
              "      <button class=\"colab-df-convert\" onclick=\"convertToInteractive('df-247e2770-2e69-45d2-aaac-b693e087c590')\"\n",
              "              title=\"Convert this dataframe to an interactive table.\"\n",
              "              style=\"display:none;\">\n",
              "        \n",
              "  <svg xmlns=\"http://www.w3.org/2000/svg\" height=\"24px\"viewBox=\"0 0 24 24\"\n",
              "       width=\"24px\">\n",
              "    <path d=\"M0 0h24v24H0V0z\" fill=\"none\"/>\n",
              "    <path d=\"M18.56 5.44l.94 2.06.94-2.06 2.06-.94-2.06-.94-.94-2.06-.94 2.06-2.06.94zm-11 1L8.5 8.5l.94-2.06 2.06-.94-2.06-.94L8.5 2.5l-.94 2.06-2.06.94zm10 10l.94 2.06.94-2.06 2.06-.94-2.06-.94-.94-2.06-.94 2.06-2.06.94z\"/><path d=\"M17.41 7.96l-1.37-1.37c-.4-.4-.92-.59-1.43-.59-.52 0-1.04.2-1.43.59L10.3 9.45l-7.72 7.72c-.78.78-.78 2.05 0 2.83L4 21.41c.39.39.9.59 1.41.59.51 0 1.02-.2 1.41-.59l7.78-7.78 2.81-2.81c.8-.78.8-2.07 0-2.86zM5.41 20L4 18.59l7.72-7.72 1.47 1.35L5.41 20z\"/>\n",
              "  </svg>\n",
              "      </button>\n",
              "      \n",
              "  <style>\n",
              "    .colab-df-container {\n",
              "      display:flex;\n",
              "      flex-wrap:wrap;\n",
              "      gap: 12px;\n",
              "    }\n",
              "\n",
              "    .colab-df-convert {\n",
              "      background-color: #E8F0FE;\n",
              "      border: none;\n",
              "      border-radius: 50%;\n",
              "      cursor: pointer;\n",
              "      display: none;\n",
              "      fill: #1967D2;\n",
              "      height: 32px;\n",
              "      padding: 0 0 0 0;\n",
              "      width: 32px;\n",
              "    }\n",
              "\n",
              "    .colab-df-convert:hover {\n",
              "      background-color: #E2EBFA;\n",
              "      box-shadow: 0px 1px 2px rgba(60, 64, 67, 0.3), 0px 1px 3px 1px rgba(60, 64, 67, 0.15);\n",
              "      fill: #174EA6;\n",
              "    }\n",
              "\n",
              "    [theme=dark] .colab-df-convert {\n",
              "      background-color: #3B4455;\n",
              "      fill: #D2E3FC;\n",
              "    }\n",
              "\n",
              "    [theme=dark] .colab-df-convert:hover {\n",
              "      background-color: #434B5C;\n",
              "      box-shadow: 0px 1px 3px 1px rgba(0, 0, 0, 0.15);\n",
              "      filter: drop-shadow(0px 1px 2px rgba(0, 0, 0, 0.3));\n",
              "      fill: #FFFFFF;\n",
              "    }\n",
              "  </style>\n",
              "\n",
              "      <script>\n",
              "        const buttonEl =\n",
              "          document.querySelector('#df-247e2770-2e69-45d2-aaac-b693e087c590 button.colab-df-convert');\n",
              "        buttonEl.style.display =\n",
              "          google.colab.kernel.accessAllowed ? 'block' : 'none';\n",
              "\n",
              "        async function convertToInteractive(key) {\n",
              "          const element = document.querySelector('#df-247e2770-2e69-45d2-aaac-b693e087c590');\n",
              "          const dataTable =\n",
              "            await google.colab.kernel.invokeFunction('convertToInteractive',\n",
              "                                                     [key], {});\n",
              "          if (!dataTable) return;\n",
              "\n",
              "          const docLinkHtml = 'Like what you see? Visit the ' +\n",
              "            '<a target=\"_blank\" href=https://colab.research.google.com/notebooks/data_table.ipynb>data table notebook</a>'\n",
              "            + ' to learn more about interactive tables.';\n",
              "          element.innerHTML = '';\n",
              "          dataTable['output_type'] = 'display_data';\n",
              "          await google.colab.output.renderOutput(dataTable, element);\n",
              "          const docLink = document.createElement('div');\n",
              "          docLink.innerHTML = docLinkHtml;\n",
              "          element.appendChild(docLink);\n",
              "        }\n",
              "      </script>\n",
              "    </div>\n",
              "  </div>\n",
              "  "
            ]
          },
          "metadata": {},
          "execution_count": 33
        }
      ]
    },
    {
      "cell_type": "code",
      "source": [
        "def LLR_test(mod_1, mod_2, DF = 1):\n",
        "    L1 = mod_1.llf\n",
        "    L2 = mod_2.llf\n",
        "    LR = (2*(L2-L1))    \n",
        "    p = chi2.sf(LR, DF).round(3)\n",
        "    return p"
      ],
      "metadata": {
        "id": "d3vsyO09BCq9"
      },
      "execution_count": 34,
      "outputs": []
    },
    {
      "cell_type": "code",
      "source": [
        "import warnings\n",
        "warnings.filterwarnings(\"ignore\")"
      ],
      "metadata": {
        "id": "SkM4y1fVBXWT"
      },
      "execution_count": 35,
      "outputs": []
    },
    {
      "cell_type": "markdown",
      "source": [
        "# ARIMA(1,1,1)"
      ],
      "metadata": {
        "id": "9pxJ78mWjQwM"
      }
    },
    {
      "cell_type": "code",
      "source": [
        "model_ar_1_i_1_ma_1 = ARIMA(df_train.Price, order=(1,1,1))\n",
        "results_ar_1_i_1_ma_1 = model_ar_1_i_1_ma_1.fit()\n",
        "results_ar_1_i_1_ma_1.summary()"
      ],
      "metadata": {
        "colab": {
          "base_uri": "https://localhost:8080/",
          "height": 350
        },
        "id": "Lwwo7lIFjS79",
        "outputId": "2be3ac3a-16c2-466b-f79e-b144d6c64e02"
      },
      "execution_count": 36,
      "outputs": [
        {
          "output_type": "execute_result",
          "data": {
            "text/plain": [
              "<class 'statsmodels.iolib.summary.Summary'>\n",
              "\"\"\"\n",
              "                             ARIMA Model Results                              \n",
              "==============================================================================\n",
              "Dep. Variable:                D.Price   No. Observations:                 2406\n",
              "Model:                 ARIMA(1, 1, 1)   Log Likelihood                -342.754\n",
              "Method:                       css-mle   S.D. of innovations              0.279\n",
              "Date:                Tue, 16 Aug 2022   AIC                            693.508\n",
              "Time:                        16:57:39   BIC                            716.651\n",
              "Sample:                    01-04-2011   HQIC                           701.926\n",
              "                         - 03-24-2020                                         \n",
              "=================================================================================\n",
              "                    coef    std err          z      P>|z|      [0.025      0.975]\n",
              "---------------------------------------------------------------------------------\n",
              "const             0.0132      0.006      2.242      0.025       0.002       0.025\n",
              "ar.L1.D.Price    -0.3919      0.161     -2.428      0.015      -0.708      -0.075\n",
              "ma.L1.D.Price     0.4402      0.157      2.808      0.005       0.133       0.747\n",
              "                                    Roots                                    \n",
              "=============================================================================\n",
              "                  Real          Imaginary           Modulus         Frequency\n",
              "-----------------------------------------------------------------------------\n",
              "AR.1           -2.5520           +0.0000j            2.5520            0.5000\n",
              "MA.1           -2.2717           +0.0000j            2.2717            0.5000\n",
              "-----------------------------------------------------------------------------\n",
              "\"\"\""
            ],
            "text/html": [
              "<table class=\"simpletable\">\n",
              "<caption>ARIMA Model Results</caption>\n",
              "<tr>\n",
              "  <th>Dep. Variable:</th>      <td>D.Price</td>     <th>  No. Observations:  </th>   <td>2406</td>  \n",
              "</tr>\n",
              "<tr>\n",
              "  <th>Model:</th>          <td>ARIMA(1, 1, 1)</td>  <th>  Log Likelihood     </th> <td>-342.754</td>\n",
              "</tr>\n",
              "<tr>\n",
              "  <th>Method:</th>             <td>css-mle</td>     <th>  S.D. of innovations</th>   <td>0.279</td> \n",
              "</tr>\n",
              "<tr>\n",
              "  <th>Date:</th>          <td>Tue, 16 Aug 2022</td> <th>  AIC                </th>  <td>693.508</td>\n",
              "</tr>\n",
              "<tr>\n",
              "  <th>Time:</th>              <td>16:57:39</td>     <th>  BIC                </th>  <td>716.651</td>\n",
              "</tr>\n",
              "<tr>\n",
              "  <th>Sample:</th>           <td>01-04-2011</td>    <th>  HQIC               </th>  <td>701.926</td>\n",
              "</tr>\n",
              "<tr>\n",
              "  <th></th>                 <td>- 03-24-2020</td>   <th>                     </th>     <td> </td>   \n",
              "</tr>\n",
              "</table>\n",
              "<table class=\"simpletable\">\n",
              "<tr>\n",
              "        <td></td>           <th>coef</th>     <th>std err</th>      <th>z</th>      <th>P>|z|</th>  <th>[0.025</th>    <th>0.975]</th>  \n",
              "</tr>\n",
              "<tr>\n",
              "  <th>const</th>         <td>    0.0132</td> <td>    0.006</td> <td>    2.242</td> <td> 0.025</td> <td>    0.002</td> <td>    0.025</td>\n",
              "</tr>\n",
              "<tr>\n",
              "  <th>ar.L1.D.Price</th> <td>   -0.3919</td> <td>    0.161</td> <td>   -2.428</td> <td> 0.015</td> <td>   -0.708</td> <td>   -0.075</td>\n",
              "</tr>\n",
              "<tr>\n",
              "  <th>ma.L1.D.Price</th> <td>    0.4402</td> <td>    0.157</td> <td>    2.808</td> <td> 0.005</td> <td>    0.133</td> <td>    0.747</td>\n",
              "</tr>\n",
              "</table>\n",
              "<table class=\"simpletable\">\n",
              "<caption>Roots</caption>\n",
              "<tr>\n",
              "    <td></td>   <th>            Real</th>  <th>         Imaginary</th> <th>         Modulus</th>  <th>        Frequency</th>\n",
              "</tr>\n",
              "<tr>\n",
              "  <th>AR.1</th> <td>          -2.5520</td> <td>          +0.0000j</td> <td>           2.5520</td> <td>           0.5000</td>\n",
              "</tr>\n",
              "<tr>\n",
              "  <th>MA.1</th> <td>          -2.2717</td> <td>          +0.0000j</td> <td>           2.2717</td> <td>           0.5000</td>\n",
              "</tr>\n",
              "</table>"
            ]
          },
          "metadata": {},
          "execution_count": 36
        }
      ]
    },
    {
      "cell_type": "markdown",
      "source": [
        "Residuals of the ARIMA(1,1,1)"
      ],
      "metadata": {
        "id": "v21uMAFhBdz4"
      }
    },
    {
      "cell_type": "code",
      "source": [
        "df_train['res_ar_1_i_1_ma_1'] = results_ar_1_i_1_ma_1.resid\n",
        "sgt.plot_acf(df_train.res_ar_1_i_1_ma_1, zero = False, lags = 40)\n",
        "plt.title(\"ACF Of Residuals for ARIMA(1,1,1)\",size=20)\n",
        "plt.show()\n",
        "#failed to compute acf due to missing vaue"
      ],
      "metadata": {
        "id": "Lnt7dCjLj2_V",
        "colab": {
          "base_uri": "https://localhost:8080/",
          "height": 289
        },
        "outputId": "999c03c9-334a-4ad1-f76b-b02d7105a3bf"
      },
      "execution_count": 37,
      "outputs": [
        {
          "output_type": "display_data",
          "data": {
            "text/plain": [
              "<Figure size 432x288 with 1 Axes>"
            ],
            "image/png": "[encoded data removed]"
          },
          "metadata": {}
        }
      ]
    },
    {
      "cell_type": "code",
      "source": [
        "df_train['res_ar_1_i_1_ma_1'] = results_ar_1_i_1_ma_1.resid.iloc[:]\n",
        "sgt.plot_acf(df_train.res_ar_1_i_1_ma_1[1:], zero = False, lags = 40)\n",
        "plt.title(\"ACF Of Residuals for ARIMA(1,1,1)\",size=20)\n",
        "plt.show()"
      ],
      "metadata": {
        "colab": {
          "base_uri": "https://localhost:8080/",
          "height": 289
        },
        "id": "JHPiz3tBBlUO",
        "outputId": "683253ae-7565-4be6-8cd7-caa23a8bd870"
      },
      "execution_count": 38,
      "outputs": [
        {
          "output_type": "display_data",
          "data": {
            "text/plain": [
              "<Figure size 432x288 with 1 Axes>"
            ],
            "image/png": "[encoded data removed]"
          },
          "metadata": {}
        }
      ]
    },
    {
      "cell_type": "markdown",
      "source": [
        "Higher lag ARIMA model"
      ],
      "metadata": {
        "id": "XLUhbRSqC9ae"
      }
    },
    {
      "cell_type": "code",
      "source": [
        "model_ar_1_i_1_ma_2 = ARIMA(df_train.Price, order=(1,1,2))\n",
        "results_ar_1_i_1_ma_2 = model_ar_1_i_1_ma_2.fit()\n",
        "model_ar_1_i_1_ma_3 = ARIMA(df_train.Price, order=(1,1,3))\n",
        "results_ar_1_i_1_ma_3 = model_ar_1_i_1_ma_3.fit()\n",
        "model_ar_2_i_1_ma_1 = ARIMA(df_train.Price, order=(2,1,1))\n",
        "results_ar_2_i_1_ma_1 = model_ar_2_i_1_ma_1.fit()\n",
        "model_ar_3_i_1_ma_1 = ARIMA(df_train.Price, order=(3,1,1))\n",
        "results_ar_3_i_1_ma_1 = model_ar_3_i_1_ma_1.fit()\n",
        "model_ar_3_i_1_ma_2 = ARIMA(df_train.Price, order=(3,1,2))\n",
        "results_ar_3_i_1_ma_2 = model_ar_3_i_1_ma_2.fit(start_ar_lags=5)"
      ],
      "metadata": {
        "id": "o9fXrzAyB0JU"
      },
      "execution_count": 39,
      "outputs": []
    },
    {
      "cell_type": "code",
      "source": [
        "print(\"ARIMA(1,1,1):  \\t LL = \", results_ar_1_i_1_ma_1.llf, \"\\t AIC = \", results_ar_1_i_1_ma_1.aic)\n",
        "print(\"ARIMA(1,1,2):  \\t LL = \", results_ar_1_i_1_ma_2.llf, \"\\t AIC = \", results_ar_1_i_1_ma_2.aic)\n",
        "print(\"ARIMA(1,1,3):  \\t LL = \", results_ar_1_i_1_ma_3.llf, \"\\t AIC = \", results_ar_1_i_1_ma_3.aic)\n",
        "print(\"ARIMA(2,1,1):  \\t LL = \", results_ar_2_i_1_ma_1.llf, \"\\t AIC = \", results_ar_2_i_1_ma_1.aic)\n",
        "print(\"ARIMA(3,1,1):  \\t LL = \", results_ar_3_i_1_ma_1.llf, \"\\t AIC = \", results_ar_3_i_1_ma_1.aic)\n",
        "print(\"ARIMA(3,1,2):  \\t LL = \", results_ar_3_i_1_ma_2.llf, \"\\t AIC = \", results_ar_3_i_1_ma_2.aic)"
      ],
      "metadata": {
        "colab": {
          "base_uri": "https://localhost:8080/"
        },
        "id": "7YFppODQDb6K",
        "outputId": "9e526405-03a7-4218-ce00-a68728c16af4"
      },
      "execution_count": 40,
      "outputs": [
        {
          "output_type": "stream",
          "name": "stdout",
          "text": [
            "ARIMA(1,1,1):  \t LL =  -342.75407974989776 \t AIC =  693.5081594997955\n",
            "ARIMA(1,1,2):  \t LL =  -334.70075931977135 \t AIC =  679.4015186395427\n",
            "ARIMA(1,1,3):  \t LL =  -330.6445498234043 \t AIC =  673.2890996468086\n",
            "ARIMA(2,1,1):  \t LL =  -332.33277337814206 \t AIC =  674.6655467562841\n",
            "ARIMA(3,1,1):  \t LL =  -328.35654679582876 \t AIC =  668.7130935916575\n",
            "ARIMA(3,1,2):  \t LL =  -322.3795947755307 \t AIC =  658.7591895510614\n"
          ]
        }
      ]
    },
    {
      "cell_type": "code",
      "source": [
        "print(\"\\nLLR test p-value = \" + str(LLR_test(results_ar_1_i_1_ma_2, results_ar_1_i_1_ma_3)))"
      ],
      "metadata": {
        "id": "l_jOiQjqDkFF",
        "outputId": "f4c3740b-29af-4f72-c001-c6225dfe487b",
        "colab": {
          "base_uri": "https://localhost:8080/"
        }
      },
      "execution_count": 41,
      "outputs": [
        {
          "output_type": "stream",
          "name": "stdout",
          "text": [
            "\n",
            "LLR test p-value = 0.004\n"
          ]
        }
      ]
    },
    {
      "cell_type": "code",
      "source": [
        "print(\"\\nLLR test p-value = \" + str(LLR_test(results_ar_1_i_1_ma_1, results_ar_1_i_1_ma_3)))"
      ],
      "metadata": {
        "colab": {
          "base_uri": "https://localhost:8080/"
        },
        "id": "8C7hlHsWLu0s",
        "outputId": "b223f408-fc98-412a-c49f-ad4b97e1c6d7"
      },
      "execution_count": 42,
      "outputs": [
        {
          "output_type": "stream",
          "name": "stdout",
          "text": [
            "\n",
            "LLR test p-value = 0.0\n"
          ]
        }
      ]
    },
    {
      "cell_type": "code",
      "source": [
        "df_train['res_ar_3_i_1_ma_2'] = results_ar_3_i_1_ma_2.resid\n",
        "sgt.plot_acf(df_train.res_ar_3_i_1_ma_2[1:], zero = False, lags = 40)\n",
        "plt.title(\"ACF Of Residuals for ARIMA(3,1,2)\", size=20)\n",
        "plt.show()"
      ],
      "metadata": {
        "colab": {
          "base_uri": "https://localhost:8080/",
          "height": 289
        },
        "id": "7xV4pt1-MgLY",
        "outputId": "1f2807e6-40b1-42c0-e89c-1d72de59f39f"
      },
      "execution_count": 43,
      "outputs": [
        {
          "output_type": "display_data",
          "data": {
            "text/plain": [
              "<Figure size 432x288 with 1 Axes>"
            ],
            "image/png": "[encoded data removed]"
          },
          "metadata": {}
        }
      ]
    },
    {
      "cell_type": "code",
      "source": [
        "results_ar_3_i_1_ma_2.summary()"
      ],
      "metadata": {
        "colab": {
          "base_uri": "https://localhost:8080/",
          "height": 476
        },
        "id": "6eUSn1QTMtm0",
        "outputId": "5efbf302-bb48-4ffe-8a84-5d904473f578"
      },
      "execution_count": 44,
      "outputs": [
        {
          "output_type": "execute_result",
          "data": {
            "text/plain": [
              "<class 'statsmodels.iolib.summary.Summary'>\n",
              "\"\"\"\n",
              "                             ARIMA Model Results                              \n",
              "==============================================================================\n",
              "Dep. Variable:                D.Price   No. Observations:                 2406\n",
              "Model:                 ARIMA(3, 1, 2)   Log Likelihood                -322.380\n",
              "Method:                       css-mle   S.D. of innovations              0.277\n",
              "Date:                Tue, 16 Aug 2022   AIC                            658.759\n",
              "Time:                        16:57:42   BIC                            699.259\n",
              "Sample:                    01-04-2011   HQIC                           673.491\n",
              "                         - 03-24-2020                                         \n",
              "=================================================================================\n",
              "                    coef    std err          z      P>|z|      [0.025      0.975]\n",
              "---------------------------------------------------------------------------------\n",
              "const             0.0132      0.006      2.298      0.022       0.002       0.025\n",
              "ar.L1.D.Price     1.0050      0.146      6.865      0.000       0.718       1.292\n",
              "ar.L2.D.Price    -0.6332      0.098     -6.492      0.000      -0.824      -0.442\n",
              "ar.L3.D.Price     0.1174      0.026      4.507      0.000       0.066       0.168\n",
              "ma.L1.D.Price    -0.9801      0.147     -6.690      0.000      -1.267      -0.693\n",
              "ma.L2.D.Price     0.5021      0.102      4.937      0.000       0.303       0.701\n",
              "                                    Roots                                    \n",
              "=============================================================================\n",
              "                  Real          Imaginary           Modulus         Frequency\n",
              "-----------------------------------------------------------------------------\n",
              "AR.1            0.8452           -1.2592j            1.5166           -0.1559\n",
              "AR.2            0.8452           +1.2592j            1.5166            0.1559\n",
              "AR.3            3.7033           -0.0000j            3.7033           -0.0000\n",
              "MA.1            0.9759           -1.0193j            1.4112           -0.1285\n",
              "MA.2            0.9759           +1.0193j            1.4112            0.1285\n",
              "-----------------------------------------------------------------------------\n",
              "\"\"\""
            ],
            "text/html": [
              "<table class=\"simpletable\">\n",
              "<caption>ARIMA Model Results</caption>\n",
              "<tr>\n",
              "  <th>Dep. Variable:</th>      <td>D.Price</td>     <th>  No. Observations:  </th>   <td>2406</td>  \n",
              "</tr>\n",
              "<tr>\n",
              "  <th>Model:</th>          <td>ARIMA(3, 1, 2)</td>  <th>  Log Likelihood     </th> <td>-322.380</td>\n",
              "</tr>\n",
              "<tr>\n",
              "  <th>Method:</th>             <td>css-mle</td>     <th>  S.D. of innovations</th>   <td>0.277</td> \n",
              "</tr>\n",
              "<tr>\n",
              "  <th>Date:</th>          <td>Tue, 16 Aug 2022</td> <th>  AIC                </th>  <td>658.759</td>\n",
              "</tr>\n",
              "<tr>\n",
              "  <th>Time:</th>              <td>16:57:42</td>     <th>  BIC                </th>  <td>699.259</td>\n",
              "</tr>\n",
              "<tr>\n",
              "  <th>Sample:</th>           <td>01-04-2011</td>    <th>  HQIC               </th>  <td>673.491</td>\n",
              "</tr>\n",
              "<tr>\n",
              "  <th></th>                 <td>- 03-24-2020</td>   <th>                     </th>     <td> </td>   \n",
              "</tr>\n",
              "</table>\n",
              "<table class=\"simpletable\">\n",
              "<tr>\n",
              "        <td></td>           <th>coef</th>     <th>std err</th>      <th>z</th>      <th>P>|z|</th>  <th>[0.025</th>    <th>0.975]</th>  \n",
              "</tr>\n",
              "<tr>\n",
              "  <th>const</th>         <td>    0.0132</td> <td>    0.006</td> <td>    2.298</td> <td> 0.022</td> <td>    0.002</td> <td>    0.025</td>\n",
              "</tr>\n",
              "<tr>\n",
              "  <th>ar.L1.D.Price</th> <td>    1.0050</td> <td>    0.146</td> <td>    6.865</td> <td> 0.000</td> <td>    0.718</td> <td>    1.292</td>\n",
              "</tr>\n",
              "<tr>\n",
              "  <th>ar.L2.D.Price</th> <td>   -0.6332</td> <td>    0.098</td> <td>   -6.492</td> <td> 0.000</td> <td>   -0.824</td> <td>   -0.442</td>\n",
              "</tr>\n",
              "<tr>\n",
              "  <th>ar.L3.D.Price</th> <td>    0.1174</td> <td>    0.026</td> <td>    4.507</td> <td> 0.000</td> <td>    0.066</td> <td>    0.168</td>\n",
              "</tr>\n",
              "<tr>\n",
              "  <th>ma.L1.D.Price</th> <td>   -0.9801</td> <td>    0.147</td> <td>   -6.690</td> <td> 0.000</td> <td>   -1.267</td> <td>   -0.693</td>\n",
              "</tr>\n",
              "<tr>\n",
              "  <th>ma.L2.D.Price</th> <td>    0.5021</td> <td>    0.102</td> <td>    4.937</td> <td> 0.000</td> <td>    0.303</td> <td>    0.701</td>\n",
              "</tr>\n",
              "</table>\n",
              "<table class=\"simpletable\">\n",
              "<caption>Roots</caption>\n",
              "<tr>\n",
              "    <td></td>   <th>            Real</th>  <th>         Imaginary</th> <th>         Modulus</th>  <th>        Frequency</th>\n",
              "</tr>\n",
              "<tr>\n",
              "  <th>AR.1</th> <td>           0.8452</td> <td>          -1.2592j</td> <td>           1.5166</td> <td>          -0.1559</td>\n",
              "</tr>\n",
              "<tr>\n",
              "  <th>AR.2</th> <td>           0.8452</td> <td>          +1.2592j</td> <td>           1.5166</td> <td>           0.1559</td>\n",
              "</tr>\n",
              "<tr>\n",
              "  <th>AR.3</th> <td>           3.7033</td> <td>          -0.0000j</td> <td>           3.7033</td> <td>          -0.0000</td>\n",
              "</tr>\n",
              "<tr>\n",
              "  <th>MA.1</th> <td>           0.9759</td> <td>          -1.0193j</td> <td>           1.4112</td> <td>          -0.1285</td>\n",
              "</tr>\n",
              "<tr>\n",
              "  <th>MA.2</th> <td>           0.9759</td> <td>          +1.0193j</td> <td>           1.4112</td> <td>           0.1285</td>\n",
              "</tr>\n",
              "</table>"
            ]
          },
          "metadata": {},
          "execution_count": 44
        }
      ]
    },
    {
      "cell_type": "markdown",
      "source": [
        "Models with Higher Levels of Integration"
      ],
      "metadata": {
        "id": "0lOOwJ4qZLJl"
      }
    },
    {
      "cell_type": "code",
      "source": [
        "df_train['delta_prices']=df_train.Price.diff(1)"
      ],
      "metadata": {
        "id": "Rrx4Zm76NeiX"
      },
      "execution_count": 46,
      "outputs": []
    },
    {
      "cell_type": "code",
      "source": [
        "model_delta_ar_1_i_1_ma_1 = ARIMA(df_train.delta_prices[1:], order=(1,0,1))\n",
        "results_delta_ar_1_i_1_ma_1 = model_delta_ar_1_i_1_ma_1.fit()\n",
        "results_delta_ar_1_i_1_ma_1.summary()"
      ],
      "metadata": {
        "colab": {
          "base_uri": "https://localhost:8080/",
          "height": 350
        },
        "id": "Khuc_PZblmq0",
        "outputId": "c5751da3-7e9f-4386-9b50-412f108063d6"
      },
      "execution_count": 47,
      "outputs": [
        {
          "output_type": "execute_result",
          "data": {
            "text/plain": [
              "<class 'statsmodels.iolib.summary.Summary'>\n",
              "\"\"\"\n",
              "                              ARMA Model Results                              \n",
              "==============================================================================\n",
              "Dep. Variable:           delta_prices   No. Observations:                 2406\n",
              "Model:                     ARMA(1, 1)   Log Likelihood                -342.754\n",
              "Method:                       css-mle   S.D. of innovations              0.279\n",
              "Date:                Tue, 16 Aug 2022   AIC                            693.508\n",
              "Time:                        16:58:08   BIC                            716.651\n",
              "Sample:                    01-04-2011   HQIC                           701.926\n",
              "                         - 03-24-2020                                         \n",
              "======================================================================================\n",
              "                         coef    std err          z      P>|z|      [0.025      0.975]\n",
              "--------------------------------------------------------------------------------------\n",
              "const                  0.0132      0.006      2.242      0.025       0.002       0.025\n",
              "ar.L1.delta_prices    -0.3919      0.161     -2.428      0.015      -0.708      -0.075\n",
              "ma.L1.delta_prices     0.4402      0.157      2.808      0.005       0.133       0.747\n",
              "                                    Roots                                    \n",
              "=============================================================================\n",
              "                  Real          Imaginary           Modulus         Frequency\n",
              "-----------------------------------------------------------------------------\n",
              "AR.1           -2.5520           +0.0000j            2.5520            0.5000\n",
              "MA.1           -2.2717           +0.0000j            2.2717            0.5000\n",
              "-----------------------------------------------------------------------------\n",
              "\"\"\""
            ],
            "text/html": [
              "<table class=\"simpletable\">\n",
              "<caption>ARMA Model Results</caption>\n",
              "<tr>\n",
              "  <th>Dep. Variable:</th>   <td>delta_prices</td>   <th>  No. Observations:  </th>   <td>2406</td>  \n",
              "</tr>\n",
              "<tr>\n",
              "  <th>Model:</th>            <td>ARMA(1, 1)</td>    <th>  Log Likelihood     </th> <td>-342.754</td>\n",
              "</tr>\n",
              "<tr>\n",
              "  <th>Method:</th>             <td>css-mle</td>     <th>  S.D. of innovations</th>   <td>0.279</td> \n",
              "</tr>\n",
              "<tr>\n",
              "  <th>Date:</th>          <td>Tue, 16 Aug 2022</td> <th>  AIC                </th>  <td>693.508</td>\n",
              "</tr>\n",
              "<tr>\n",
              "  <th>Time:</th>              <td>16:58:08</td>     <th>  BIC                </th>  <td>716.651</td>\n",
              "</tr>\n",
              "<tr>\n",
              "  <th>Sample:</th>           <td>01-04-2011</td>    <th>  HQIC               </th>  <td>701.926</td>\n",
              "</tr>\n",
              "<tr>\n",
              "  <th></th>                 <td>- 03-24-2020</td>   <th>                     </th>     <td> </td>   \n",
              "</tr>\n",
              "</table>\n",
              "<table class=\"simpletable\">\n",
              "<tr>\n",
              "           <td></td>             <th>coef</th>     <th>std err</th>      <th>z</th>      <th>P>|z|</th>  <th>[0.025</th>    <th>0.975]</th>  \n",
              "</tr>\n",
              "<tr>\n",
              "  <th>const</th>              <td>    0.0132</td> <td>    0.006</td> <td>    2.242</td> <td> 0.025</td> <td>    0.002</td> <td>    0.025</td>\n",
              "</tr>\n",
              "<tr>\n",
              "  <th>ar.L1.delta_prices</th> <td>   -0.3919</td> <td>    0.161</td> <td>   -2.428</td> <td> 0.015</td> <td>   -0.708</td> <td>   -0.075</td>\n",
              "</tr>\n",
              "<tr>\n",
              "  <th>ma.L1.delta_prices</th> <td>    0.4402</td> <td>    0.157</td> <td>    2.808</td> <td> 0.005</td> <td>    0.133</td> <td>    0.747</td>\n",
              "</tr>\n",
              "</table>\n",
              "<table class=\"simpletable\">\n",
              "<caption>Roots</caption>\n",
              "<tr>\n",
              "    <td></td>   <th>            Real</th>  <th>         Imaginary</th> <th>         Modulus</th>  <th>        Frequency</th>\n",
              "</tr>\n",
              "<tr>\n",
              "  <th>AR.1</th> <td>          -2.5520</td> <td>          +0.0000j</td> <td>           2.5520</td> <td>           0.5000</td>\n",
              "</tr>\n",
              "<tr>\n",
              "  <th>MA.1</th> <td>          -2.2717</td> <td>          +0.0000j</td> <td>           2.2717</td> <td>           0.5000</td>\n",
              "</tr>\n",
              "</table>"
            ]
          },
          "metadata": {},
          "execution_count": 47
        }
      ]
    },
    {
      "cell_type": "code",
      "source": [
        "sts.adfuller(df_train.delta_prices[1:])"
      ],
      "metadata": {
        "colab": {
          "base_uri": "https://localhost:8080/"
        },
        "id": "GhECDrOFlv8j",
        "outputId": "9cafa7a1-f1fc-498d-8689-08d94afe4519"
      },
      "execution_count": 49,
      "outputs": [
        {
          "output_type": "execute_result",
          "data": {
            "text/plain": [
              "(-20.380111305919723,\n",
              " 0.0,\n",
              " 4,\n",
              " 2401,\n",
              " {'1%': -3.43307649105898,\n",
              "  '5%': -2.8627445274375276,\n",
              "  '10%': -2.567411220295375},\n",
              " 656.251247862856)"
            ]
          },
          "metadata": {},
          "execution_count": 49
        }
      ]
    },
    {
      "cell_type": "markdown",
      "source": [
        "Hence stationary"
      ],
      "metadata": {
        "id": "PPCj2Cf8nJ0M"
      }
    },
    {
      "cell_type": "code",
      "source": [
        "model_ar_1_i_2_ma_1 = ARIMA(df_train.Price, order=(1,2,1))\n",
        "results_ar_1_i_2_ma_1 = model_ar_1_i_2_ma_1.fit(start_ar_lags=6)\n",
        "results_ar_1_i_2_ma_1.summary()"
      ],
      "metadata": {
        "colab": {
          "base_uri": "https://localhost:8080/",
          "height": 350
        },
        "id": "fdiCortSl-l9",
        "outputId": "f2d7b372-de51-4d1c-c3da-04f033f78a81"
      },
      "execution_count": 54,
      "outputs": [
        {
          "output_type": "execute_result",
          "data": {
            "text/plain": [
              "<class 'statsmodels.iolib.summary.Summary'>\n",
              "\"\"\"\n",
              "                             ARIMA Model Results                              \n",
              "==============================================================================\n",
              "Dep. Variable:               D2.Price   No. Observations:                 2405\n",
              "Model:                 ARIMA(1, 2, 1)   Log Likelihood                -349.384\n",
              "Method:                       css-mle   S.D. of innovations              0.279\n",
              "Date:                Tue, 16 Aug 2022   AIC                            706.767\n",
              "Time:                        17:00:59   BIC                            729.908\n",
              "Sample:                    01-05-2011   HQIC                           715.185\n",
              "                         - 03-24-2020                                         \n",
              "==================================================================================\n",
              "                     coef    std err          z      P>|z|      [0.025      0.975]\n",
              "----------------------------------------------------------------------------------\n",
              "const          -2.933e-06   8.43e-06     -0.348      0.728   -1.94e-05    1.36e-05\n",
              "ar.L1.D2.Price     0.0269      0.020      1.321      0.187      -0.013       0.067\n",
              "ma.L1.D2.Price    -1.0000      0.001   -792.968      0.000      -1.002      -0.998\n",
              "                                    Roots                                    \n",
              "=============================================================================\n",
              "                  Real          Imaginary           Modulus         Frequency\n",
              "-----------------------------------------------------------------------------\n",
              "AR.1           37.1361           +0.0000j           37.1361            0.0000\n",
              "MA.1            1.0000           +0.0000j            1.0000            0.0000\n",
              "-----------------------------------------------------------------------------\n",
              "\"\"\""
            ],
            "text/html": [
              "<table class=\"simpletable\">\n",
              "<caption>ARIMA Model Results</caption>\n",
              "<tr>\n",
              "  <th>Dep. Variable:</th>     <td>D2.Price</td>     <th>  No. Observations:  </th>   <td>2405</td>  \n",
              "</tr>\n",
              "<tr>\n",
              "  <th>Model:</th>          <td>ARIMA(1, 2, 1)</td>  <th>  Log Likelihood     </th> <td>-349.384</td>\n",
              "</tr>\n",
              "<tr>\n",
              "  <th>Method:</th>             <td>css-mle</td>     <th>  S.D. of innovations</th>   <td>0.279</td> \n",
              "</tr>\n",
              "<tr>\n",
              "  <th>Date:</th>          <td>Tue, 16 Aug 2022</td> <th>  AIC                </th>  <td>706.767</td>\n",
              "</tr>\n",
              "<tr>\n",
              "  <th>Time:</th>              <td>17:00:59</td>     <th>  BIC                </th>  <td>729.908</td>\n",
              "</tr>\n",
              "<tr>\n",
              "  <th>Sample:</th>           <td>01-05-2011</td>    <th>  HQIC               </th>  <td>715.185</td>\n",
              "</tr>\n",
              "<tr>\n",
              "  <th></th>                 <td>- 03-24-2020</td>   <th>                     </th>     <td> </td>   \n",
              "</tr>\n",
              "</table>\n",
              "<table class=\"simpletable\">\n",
              "<tr>\n",
              "         <td></td>           <th>coef</th>     <th>std err</th>      <th>z</th>      <th>P>|z|</th>  <th>[0.025</th>    <th>0.975]</th>  \n",
              "</tr>\n",
              "<tr>\n",
              "  <th>const</th>          <td>-2.933e-06</td> <td> 8.43e-06</td> <td>   -0.348</td> <td> 0.728</td> <td>-1.94e-05</td> <td> 1.36e-05</td>\n",
              "</tr>\n",
              "<tr>\n",
              "  <th>ar.L1.D2.Price</th> <td>    0.0269</td> <td>    0.020</td> <td>    1.321</td> <td> 0.187</td> <td>   -0.013</td> <td>    0.067</td>\n",
              "</tr>\n",
              "<tr>\n",
              "  <th>ma.L1.D2.Price</th> <td>   -1.0000</td> <td>    0.001</td> <td> -792.968</td> <td> 0.000</td> <td>   -1.002</td> <td>   -0.998</td>\n",
              "</tr>\n",
              "</table>\n",
              "<table class=\"simpletable\">\n",
              "<caption>Roots</caption>\n",
              "<tr>\n",
              "    <td></td>   <th>            Real</th>  <th>         Imaginary</th> <th>         Modulus</th>  <th>        Frequency</th>\n",
              "</tr>\n",
              "<tr>\n",
              "  <th>AR.1</th> <td>          37.1361</td> <td>          +0.0000j</td> <td>          37.1361</td> <td>           0.0000</td>\n",
              "</tr>\n",
              "<tr>\n",
              "  <th>MA.1</th> <td>           1.0000</td> <td>          +0.0000j</td> <td>           1.0000</td> <td>           0.0000</td>\n",
              "</tr>\n",
              "</table>"
            ]
          },
          "metadata": {},
          "execution_count": 54
        }
      ]
    },
    {
      "cell_type": "code",
      "source": [
        "df_train['res_ar_1_i_2_ma_1'] = results_ar_1_i_2_ma_1.resid.iloc[:]\n",
        "sgt.plot_acf(df_train.res_ar_1_i_2_ma_1[2:], zero = False, lags = 40)\n",
        "plt.title(\"ACF Of Residuals for ARIMA(1,2,1)\",size=20)\n",
        "plt.show()"
      ],
      "metadata": {
        "colab": {
          "base_uri": "https://localhost:8080/",
          "height": 289
        },
        "id": "CQcdmKkrmIF3",
        "outputId": "f5373ae1-156d-4d80-c918-e6cc01810eda"
      },
      "execution_count": 55,
      "outputs": [
        {
          "output_type": "display_data",
          "data": {
            "text/plain": [
              "<Figure size 432x288 with 1 Axes>"
            ],
            "image/png": "[encoded data removed]"
          },
          "metadata": {}
        }
      ]
    },
    {
      "cell_type": "markdown",
      "source": [
        "Fitting an Integrated model for stationary returns"
      ],
      "metadata": {
        "id": "6c-WQjtknVVu"
      }
    },
    {
      "cell_type": "markdown",
      "source": [
        "Issues with using stationary data for ARIMA model\n",
        "\n",
        "\n",
        "1.   More and more computationally expensive\n",
        "2.   Transform the data \n",
        "3. Interpretation of result is difficult\n",
        "\n"
      ],
      "metadata": {
        "id": "ZWrsGFT9oJRX"
      }
    }
  ]
}